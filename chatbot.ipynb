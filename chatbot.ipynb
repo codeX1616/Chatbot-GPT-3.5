{
 "cells": [
  {
   "cell_type": "markdown",
   "id": "954a65ad-a781-4e56-b16d-1fa88265fef1",
   "metadata": {},
   "source": [
    "Installing dependencies"
   ]
  },
  {
   "cell_type": "code",
   "execution_count": 2,
   "id": "4b106c91-36a2-4243-82bd-bed9446dbc52",
   "metadata": {},
   "outputs": [
    {
     "name": "stdout",
     "output_type": "stream",
     "text": [
      "Requirement already satisfied: langchain-openai==0.1.7 in /home/shtlp_0038/anaconda3/lib/python3.12/site-packages (0.1.7)\n",
      "Requirement already satisfied: langchain-core<0.3,>=0.1.46 in /home/shtlp_0038/anaconda3/lib/python3.12/site-packages (from langchain-openai==0.1.7) (0.2.21)\n",
      "Requirement already satisfied: openai<2.0.0,>=1.24.0 in /home/shtlp_0038/anaconda3/lib/python3.12/site-packages (from langchain-openai==0.1.7) (1.35.14)\n",
      "Requirement already satisfied: tiktoken<1,>=0.7 in /home/shtlp_0038/anaconda3/lib/python3.12/site-packages (from langchain-openai==0.1.7) (0.7.0)\n",
      "Requirement already satisfied: PyYAML>=5.3 in /home/shtlp_0038/anaconda3/lib/python3.12/site-packages (from langchain-core<0.3,>=0.1.46->langchain-openai==0.1.7) (6.0.1)\n",
      "Requirement already satisfied: jsonpatch<2.0,>=1.33 in /home/shtlp_0038/anaconda3/lib/python3.12/site-packages (from langchain-core<0.3,>=0.1.46->langchain-openai==0.1.7) (1.33)\n",
      "Requirement already satisfied: langsmith<0.2.0,>=0.1.75 in /home/shtlp_0038/anaconda3/lib/python3.12/site-packages (from langchain-core<0.3,>=0.1.46->langchain-openai==0.1.7) (0.1.90)\n",
      "Requirement already satisfied: packaging<25,>=23.2 in /home/shtlp_0038/anaconda3/lib/python3.12/site-packages (from langchain-core<0.3,>=0.1.46->langchain-openai==0.1.7) (23.2)\n",
      "Requirement already satisfied: pydantic<3.0.0,>=2.7.4 in /home/shtlp_0038/anaconda3/lib/python3.12/site-packages (from langchain-core<0.3,>=0.1.46->langchain-openai==0.1.7) (2.8.2)\n",
      "Requirement already satisfied: tenacity!=8.4.0,<9.0.0,>=8.1.0 in /home/shtlp_0038/anaconda3/lib/python3.12/site-packages (from langchain-core<0.3,>=0.1.46->langchain-openai==0.1.7) (8.2.2)\n",
      "Requirement already satisfied: anyio<5,>=3.5.0 in /home/shtlp_0038/anaconda3/lib/python3.12/site-packages (from openai<2.0.0,>=1.24.0->langchain-openai==0.1.7) (4.2.0)\n",
      "Requirement already satisfied: distro<2,>=1.7.0 in /home/shtlp_0038/anaconda3/lib/python3.12/site-packages (from openai<2.0.0,>=1.24.0->langchain-openai==0.1.7) (1.9.0)\n",
      "Requirement already satisfied: httpx<1,>=0.23.0 in /home/shtlp_0038/anaconda3/lib/python3.12/site-packages (from openai<2.0.0,>=1.24.0->langchain-openai==0.1.7) (0.26.0)\n",
      "Requirement already satisfied: sniffio in /home/shtlp_0038/anaconda3/lib/python3.12/site-packages (from openai<2.0.0,>=1.24.0->langchain-openai==0.1.7) (1.3.0)\n",
      "Requirement already satisfied: tqdm>4 in /home/shtlp_0038/anaconda3/lib/python3.12/site-packages (from openai<2.0.0,>=1.24.0->langchain-openai==0.1.7) (4.66.4)\n",
      "Requirement already satisfied: typing-extensions<5,>=4.7 in /home/shtlp_0038/anaconda3/lib/python3.12/site-packages (from openai<2.0.0,>=1.24.0->langchain-openai==0.1.7) (4.11.0)\n",
      "Requirement already satisfied: regex>=2022.1.18 in /home/shtlp_0038/anaconda3/lib/python3.12/site-packages (from tiktoken<1,>=0.7->langchain-openai==0.1.7) (2023.10.3)\n",
      "Requirement already satisfied: requests>=2.26.0 in /home/shtlp_0038/anaconda3/lib/python3.12/site-packages (from tiktoken<1,>=0.7->langchain-openai==0.1.7) (2.32.2)\n",
      "Requirement already satisfied: idna>=2.8 in /home/shtlp_0038/anaconda3/lib/python3.12/site-packages (from anyio<5,>=3.5.0->openai<2.0.0,>=1.24.0->langchain-openai==0.1.7) (3.7)\n",
      "Requirement already satisfied: certifi in /home/shtlp_0038/anaconda3/lib/python3.12/site-packages (from httpx<1,>=0.23.0->openai<2.0.0,>=1.24.0->langchain-openai==0.1.7) (2024.7.4)\n",
      "Requirement already satisfied: httpcore==1.* in /home/shtlp_0038/anaconda3/lib/python3.12/site-packages (from httpx<1,>=0.23.0->openai<2.0.0,>=1.24.0->langchain-openai==0.1.7) (1.0.2)\n",
      "Requirement already satisfied: h11<0.15,>=0.13 in /home/shtlp_0038/anaconda3/lib/python3.12/site-packages (from httpcore==1.*->httpx<1,>=0.23.0->openai<2.0.0,>=1.24.0->langchain-openai==0.1.7) (0.14.0)\n",
      "Requirement already satisfied: jsonpointer>=1.9 in /home/shtlp_0038/anaconda3/lib/python3.12/site-packages (from jsonpatch<2.0,>=1.33->langchain-core<0.3,>=0.1.46->langchain-openai==0.1.7) (2.1)\n",
      "Requirement already satisfied: orjson<4.0.0,>=3.9.14 in /home/shtlp_0038/anaconda3/lib/python3.12/site-packages (from langsmith<0.2.0,>=0.1.75->langchain-core<0.3,>=0.1.46->langchain-openai==0.1.7) (3.10.6)\n",
      "Requirement already satisfied: annotated-types>=0.4.0 in /home/shtlp_0038/anaconda3/lib/python3.12/site-packages (from pydantic<3.0.0,>=2.7.4->langchain-core<0.3,>=0.1.46->langchain-openai==0.1.7) (0.6.0)\n",
      "Requirement already satisfied: pydantic-core==2.20.1 in /home/shtlp_0038/anaconda3/lib/python3.12/site-packages (from pydantic<3.0.0,>=2.7.4->langchain-core<0.3,>=0.1.46->langchain-openai==0.1.7) (2.20.1)\n",
      "Requirement already satisfied: charset-normalizer<4,>=2 in /home/shtlp_0038/anaconda3/lib/python3.12/site-packages (from requests>=2.26.0->tiktoken<1,>=0.7->langchain-openai==0.1.7) (2.0.4)\n",
      "Requirement already satisfied: urllib3<3,>=1.21.1 in /home/shtlp_0038/anaconda3/lib/python3.12/site-packages (from requests>=2.26.0->tiktoken<1,>=0.7->langchain-openai==0.1.7) (2.2.2)\n",
      "Note: you may need to restart the kernel to use updated packages.\n"
     ]
    }
   ],
   "source": [
    "%pip install langchain-openai==0.1.7"
   ]
  },
  {
   "cell_type": "markdown",
   "id": "9e3a5848-a4f6-4b40-8051-b11fd5ff782c",
   "metadata": {},
   "source": [
    "Setup environment variables"
   ]
  },
  {
   "cell_type": "code",
   "execution_count": 4,
   "id": "cd92b874-2b71-4f0d-b098-3b3ca1585824",
   "metadata": {},
   "outputs": [],
   "source": [
    "import os\n",
    "\n",
    "os.environ[\"AZURE_OPENAI_API_KEY\"] = \"<API_KEY>\"\n",
    "os.environ[\"AZURE_OPENAI_ENDPOINT\"] = \"<OPENAI_ENDPOINT>\"\n",
    "os.environ[\"AZURE_OPENAI_API_VERSION\"] = \"<OPENAI_API_VERSION>\"\n",
    "os.environ[\"AZURE_OPENAI_CHAT_DEPLOYMENT_NAME\"] = \"<OPENAI_DEPLOYMENT_NAME>\"\n",
    "os.environ[\"AZURE_OPENAI_USER_ID\"] = \"<OPENAI_USER_ID>\""
   ]
  },
  {
   "cell_type": "markdown",
   "id": "6a4c4818-0c47-4538-ad4f-8c84e7438d38",
   "metadata": {},
   "source": [
    "Loading the LLM and performing a message invoke"
   ]
  },
  {
   "cell_type": "code",
   "execution_count": 6,
   "id": "f8854513-09f6-4368-ad58-45ba6684bddc",
   "metadata": {},
   "outputs": [
    {
     "name": "stdout",
     "output_type": "stream",
     "text": [
      "GPT 3.5 Invoke:  I am an AI language model created by OpenAI. I am designed to assist with various tasks such as answering questions, generating text, and providing information. How can I assist you today?\n"
     ]
    }
   ],
   "source": [
    "from langchain_openai import AzureChatOpenAI\n",
    "import os\n",
    "from dotenv import load_dotenv\n",
    "from langchain_core.messages import HumanMessage\n",
    "\n",
    "load_dotenv()\n",
    "llm = AzureChatOpenAI(\n",
    "    default_headers={\n",
    "        \"User-Id\": os.getenv('AZURE_OPENAI_USER_ID')\n",
    "    },\n",
    "    temperature=0,\n",
    "    deployment_name=os.getenv('AZURE_OPENAI_CHAT_DEPLOYMENT_NAME'),\n",
    "    api_version=os.getenv('AZURE_OPENAI_API_VERSION')\n",
    ")\n",
    "\n",
    "response_using_invoke = llm.invoke([HumanMessage('Hey, who are you?')])\n",
    "print(\"GPT 3.5: \", response_using_invoke.content)"
   ]
  }
 ],
 "metadata": {
  "kernelspec": {
   "display_name": "Python 3 (ipykernel)",
   "language": "python",
   "name": "python3"
  },
  "language_info": {
   "codemirror_mode": {
    "name": "ipython",
    "version": 3
   },
   "file_extension": ".py",
   "mimetype": "text/x-python",
   "name": "python",
   "nbconvert_exporter": "python",
   "pygments_lexer": "ipython3",
   "version": "3.12.4"
  }
 },
 "nbformat": 4,
 "nbformat_minor": 5
}
